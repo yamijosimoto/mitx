{
 "cells": [
  {
   "cell_type": "code",
   "execution_count": 1,
   "metadata": {
    "ExecuteTime": {
     "end_time": "2019-07-25T19:23:11.643581Z",
     "start_time": "2019-07-25T19:23:10.691471Z"
    }
   },
   "outputs": [],
   "source": [
    "from main import *\n",
    "import test\n",
    "%matplotlib inline"
   ]
  },
  {
   "cell_type": "markdown",
   "metadata": {},
   "source": [
    "# Introduction\n",
    "\n",
    "Alice, Bob, and Daniel are friends learning machine learning together. After watching a few lectures, they are very proud of having learned many useful tools, including linear and logistic regression, non-linear features, regularization, and kernel tricks. To see how these methods can be used to solve a real life problem, they decide to get their hands dirty with the famous digit recognition problem using the MNIST (Mixed National Institute of Standards and Technology) database.\n",
    "\n",
    "Hearing that you are an excellent student in the MITx machine learning class with solid understanding of the material and great coding ability in Python, they decide to invite you to their team and help them with implementing these different algorithms.\n",
    "\n",
    "The MNIST database contains binary images of handwritten digits commonly used to train image processing systems. The digits were collected from among Census Bureau employees and high school students. The database contains 60,000 training digits and 10,000 testing digits, all of which have been size-normalized and centered in a fixed-size image of 28 × 28 pixels. Many methods have been tested with this dataset and in this project, you will get a chance to experiment with the task of classifying these images into the correct digit using some of the methods you have learned so far."
   ]
  },
  {
   "cell_type": "code",
   "execution_count": 13,
   "metadata": {},
   "outputs": [
    {
     "data": {
      "image/png": "[encoded data removed]",
      "text/plain": [
       "<Figure size 432x288 with 20 Axes>"
      ]
     },
     "metadata": {
      "needs_background": "light"
     },
     "output_type": "display_data"
    }
   ],
   "source": [
    "# Load MNIST data\n",
    "train_x, train_y, test_x, test_y = get_MNIST_data()\n",
    "# Plot the first 20 images of the training set\n",
    "plot_images(train_x[0:20, :])"
   ]
  },
  {
   "cell_type": "markdown",
   "metadata": {},
   "source": [
    "# Linear Regression with Closed Form Solution\n",
    "\n",
    "After seeing the problem, your classmate Alice immediately argues that we can apply a linear regression model, as the labels are numbers from 0-9, very similar to the example we learned from the lecture. Though being a little doubtful, you decide to have a try and start simple by using the raw pixel values of each image as features.\n",
    "\n",
    "Alice wrote a skeleton code `run_linear_regression_on_MNIST` in main.py, but she needs your help to complete the code and make the model work.\n"
   ]
  },
  {
   "cell_type": "markdown",
   "metadata": {},
   "source": [
    "### Closed Form Solution of Linear Regression\n",
    "\n",
    "Recall:\n",
    "\n",
    "$ \\theta = (X^T X + \\lambda I)^{-1} X^T Y $\n",
    "\n",
    "where $ I $ is the identity matrix.\n",
    "\n",
    "Write a function `closed_form` that computes this closed form solution given features $ X $, labels $ Y $, and the regularization parameter $ \\lambda $."
   ]
  },
  {
   "cell_type": "code",
   "execution_count": null,
   "metadata": {},
   "outputs": [],
   "source": [
    "def closed_form(X, Y, lambda_factor):\n",
    "    \"\"\"\n",
    "    Computes the closed form solution of linear regression with L2 regularization\n",
    "\n",
    "    Args:\n",
    "        X - (n, d + 1) NumPy array (n datapoints each with d features plus the bias feature in the first dimension)\n",
    "        Y - (n, ) NumPy array containing the labels (a number from 0-9) for each\n",
    "            data point\n",
    "        lambda_factor - the regularization constant (scalar)\n",
    "    Returns:\n",
    "        theta - (d + 1, ) NumPy array containing the weights of linear regression. Note that theta[0]\n",
    "        represents the y-axis intercept of the model and therefore X[0] = 1\n",
    "    \"\"\"\n",
    "    n = X.shape[1]\n",
    "    I = np.eye(n)\n",
    "    A = np.linalg.inv(X.T @ X + lambda_factor * I)\n",
    "    \n",
    "    theta =  A @ X.T @ Y\n",
    "    \n",
    "    return theta\n",
    "\n",
    "    raise NotImplementedError"
   ]
  },
  {
   "cell_type": "markdown",
   "metadata": {},
   "source": [
    "Test on given problem:"
   ]
  },
  {
   "cell_type": "code",
   "execution_count": 14,
   "metadata": {
    "scrolled": true
   },
   "outputs": [],
   "source": [
    "X = np.array([[0.69665959, 0.1176613 ],\n",
    " [0.31760089, 0.79518646],\n",
    " [0.00999331, 0.47771456],\n",
    " [0.74631743, 0.97829618],\n",
    " [0.86107641, 0.48218395],\n",
    " [0.63610549, 0.57816273],\n",
    " [0.28001767, 0.15622796],\n",
    " [0.88951132, 0.29489633],\n",
    " [0.23763551, 0.15654827],\n",
    " [0.17375538, 0.10250591]])\n",
    "Y = np.array([0.47635682, 0.59191978, 0.35434797, 0.7197702,  0.04977253, 0.62177976,\n",
    " 0.86412764, 0.86252658, 0.49849733, 0.29968752])\n",
    "lambda_factor = 0.32809342846061595\n",
    "\n",
    "# Submission output: [0.49272364 0.41464331]"
   ]
  },
  {
   "cell_type": "code",
   "execution_count": 15,
   "metadata": {},
   "outputs": [
    {
     "data": {
      "text/plain": [
       "array([0.49272363, 0.41464332])"
      ]
     },
     "execution_count": 15,
     "metadata": {},
     "output_type": "execute_result"
    }
   ],
   "source": [
    "closed_form(X, Y, lambda_factor)"
   ]
  },
  {
   "cell_type": "markdown",
   "metadata": {},
   "source": [
    "## Test Error on Linear Regression\n",
    "Apply the linear regression model on the test set. For classification purpose, you decide to round the predicted label into numbers 0-9.\n",
    "\n",
    "**Note**: For this project we will be looking at the error rate defined as the fraction of labels that don't match the target labels, also known as the \"gold labels\" or ground truth. "
   ]
  },
  {
   "cell_type": "code",
   "execution_count": 16,
   "metadata": {
    "ExecuteTime": {
     "end_time": "2019-07-18T19:30:10.194960Z",
     "start_time": "2019-07-18T19:30:08.420056Z"
    }
   },
   "outputs": [
    {
     "name": "stdout",
     "output_type": "stream",
     "text": [
      "Linear Regression test_error = 0.7697\n"
     ]
    }
   ],
   "source": [
    "print('Linear Regression test_error =', run_linear_regression_on_MNIST(lambda_factor=1))"
   ]
  },
  {
   "cell_type": "code",
   "execution_count": 17,
   "metadata": {
    "ExecuteTime": {
     "end_time": "2019-07-18T19:30:28.203097Z",
     "start_time": "2019-07-18T19:30:26.433756Z"
    }
   },
   "outputs": [
    {
     "name": "stdout",
     "output_type": "stream",
     "text": [
      "Linear Regression test_error = 0.7698\n"
     ]
    }
   ],
   "source": [
    "print('Linear Regression test_error =', run_linear_regression_on_MNIST(lambda_factor=.1))"
   ]
  },
  {
   "cell_type": "code",
   "execution_count": 18,
   "metadata": {
    "ExecuteTime": {
     "end_time": "2019-07-18T19:30:32.449450Z",
     "start_time": "2019-07-18T19:30:30.676115Z"
    }
   },
   "outputs": [
    {
     "name": "stdout",
     "output_type": "stream",
     "text": [
      "Linear Regression test_error = 0.7702\n"
     ]
    }
   ],
   "source": [
    "print('Linear Regression test_error =', run_linear_regression_on_MNIST(lambda_factor=.01))"
   ]
  },
  {
   "cell_type": "markdown",
   "metadata": {},
   "source": [
    "Adjusting the $\\lambda$ factor does little to improve the test error, which suggests that linear regression is not an appropriate approach to this problem. "
   ]
  },
  {
   "cell_type": "markdown",
   "metadata": {},
   "source": [
    "# Support Vector Machine\n",
    "\n",
    "Bob thinks it is clearly not a regression problem, but a classification problem. He thinks that we can change it into a binary classification and use the support vector machine we learned in Lecture 4 to solve the problem. In order to do so, he suggests that we can build an one vs. rest model for every digit. For example, classifying the digits into two classes: 0 and not 0.\n",
    "\n",
    "Bob wrote a function `run_svm_one_vs_rest_on_MNIST` where he changed the labels of digits 1-9 to 1 and keeps the label 0 for digit 0. He also found that sklearn package contains an SVM model that you can use directly. He gave you the link to this model and hopes you can tell him how to use that."
   ]
  },
  {
   "cell_type": "code",
   "execution_count": null,
   "metadata": {
    "code_folding": [
     0
    ]
   },
   "outputs": [],
   "source": [
    "def one_vs_rest_svm(train_x, train_y, test_x):\n",
    "    \"\"\"\n",
    "    Trains a linear SVM for binary classifciation\n",
    "\n",
    "    Args:\n",
    "        train_x - (n, d) NumPy array (n datapoints each with d features)\n",
    "        train_y - (n, ) NumPy array containing the labels (0 or 1) for each training data point\n",
    "        test_x - (m, d) NumPy array (m datapoints each with d features)\n",
    "    Returns:\n",
    "        pred_test_y - (m,) NumPy array containing the labels (0 or 1) for each test data point\n",
    "    \"\"\"\n",
    "    clf = LinearSVC(random_state=0, C=0.1)\n",
    "    clf.fit(train_x, train_y) \n",
    "    \n",
    "    return clf.predict(test_x)    \n",
    "    \n",
    "    raise NotImplementedError"
   ]
  },
  {
   "cell_type": "code",
   "execution_count": 19,
   "metadata": {
    "ExecuteTime": {
     "end_time": "2019-07-18T19:30:45.424797Z",
     "start_time": "2019-07-18T19:30:42.005407Z"
    }
   },
   "outputs": [
    {
     "name": "stdout",
     "output_type": "stream",
     "text": [
      "SVM one vs. rest test_error: 0.0075\n"
     ]
    }
   ],
   "source": [
    "print('SVM one vs. rest test_error:', run_svm_one_vs_rest_on_MNIST())"
   ]
  },
  {
   "cell_type": "markdown",
   "metadata": {},
   "source": [
    "In fact, `sklearn` already implements a multiclass SVM with a one-vs-rest strategy. Use `LinearSVC` to build a multiclass SVM model."
   ]
  },
  {
   "cell_type": "code",
   "execution_count": null,
   "metadata": {
    "code_folding": [
     0,
     18
    ]
   },
   "outputs": [],
   "source": [
    "def multi_class_svm(train_x, train_y, test_x):\n",
    "    \"\"\"\n",
    "    Trains a linear SVM for multiclass classifciation using a one-vs-rest strategy\n",
    "\n",
    "    Args:\n",
    "        train_x - (n, d) NumPy array (n datapoints each with d features)\n",
    "        train_y - (n, ) NumPy array containing the labels (int) for each training data point\n",
    "        test_x - (m, d) NumPy array (m datapoints each with d features)\n",
    "    Returns:\n",
    "        pred_test_y - (m,) NumPy array containing the labels (int) for each test data point\n",
    "    \"\"\"\n",
    "    clf = LinearSVC(random_state=0, C=0.1)\n",
    "    clf.fit(train_x, train_y) \n",
    "    \n",
    "    return clf.predict(test_x)    \n",
    "\n",
    "    raise NotImplementedError\n",
    "\n",
    "def run_multiclass_svm_on_MNIST():\n",
    "    \"\"\"\n",
    "    Trains svm, classifies test data, computes test error on test set\n",
    "\n",
    "    Returns:\n",
    "        Test error for the binary svm\n",
    "    \"\"\"\n",
    "    train_x, train_y, test_x, test_y = get_MNIST_data()\n",
    "    pred_test_y = multi_class_svm(train_x, train_y, test_x)\n",
    "    test_error = compute_test_error_svm(test_y, pred_test_y)\n",
    "    return test_error"
   ]
  },
  {
   "cell_type": "code",
   "execution_count": 20,
   "metadata": {
    "ExecuteTime": {
     "end_time": "2019-07-18T19:31:27.016864Z",
     "start_time": "2019-07-18T19:30:48.696278Z"
    }
   },
   "outputs": [
    {
     "name": "stdout",
     "output_type": "stream",
     "text": [
      "Multiclass SVM test_error: 0.0819\n"
     ]
    }
   ],
   "source": [
    "print('Multiclass SVM test_error:', run_multiclass_svm_on_MNIST())"
   ]
  },
  {
   "cell_type": "markdown",
   "metadata": {},
   "source": [
    "# Multinomial (Softmax) Regression and Gradient Descent\n",
    "Daniel suggests that instead of building ten models, we can expand a single logistic regression model into a multinomial regression and solve it with similar gradient descent algorithm.\n",
    "\n",
    "The main function which you will call to run the code you will implement in this section is run_softmax_on_MNIST in main.py (already implemented). In the appendix at the bottom of this page, we describe a number of the methods that are already implemented for you in softmax.py that will be useful.\n",
    "\n",
    "In order for the regression to work, you will need to implement three methods. Below we describe what the functions should do. We have included some test cases in test.py to help you verify that the methods you have implemented are behaving sensibly."
   ]
  },
  {
   "cell_type": "markdown",
   "metadata": {},
   "source": [
    "## Compute Softmax Probabilities\n",
    "\n",
    "Write a function `compute_probabilities` that computes, for each data point  $x^{(i)}$, the probability that  $x^{(i)}$  is labeled as  $j$  for  $j=0,1, \\dots ,k−1$.\n",
    "\n",
    "The softmax function  $h$  for a particular vector  $x$  requires computing\n",
    "\n",
    "\\begin{equation}\n",
    "  h(x) = \\frac{1}{\\sum _{j=0}^{k-1} e^{\\theta _ j \\cdot x / \\tau }} \\begin{bmatrix}  e^{\\theta _0 \\cdot x / \\tau } \\\\ e^{\\theta _1 \\cdot x / \\tau } \\\\ \\vdots \\\\ e^{{{\\theta _{k-1}}}  \\cdot x / \\tau } \\end{bmatrix},\n",
    "\\end{equation}\n",
    "\n",
    "where  $\\tau >0$  is the **temperature parameter**. When computing the output probabilities (they should always be in the range  $[0,1]$), the terms  $e^{\\theta _ j \\cdot x / \\tau }$  may be very large or very small, due to the use of the exponential function. This can cause numerical or overflow errors. To deal with this, we can simply subtract some fixed amount  $c$  from each exponent to keep the resulting number from getting too large. Since\n",
    "\n",
    "\\begin{align}\n",
    "  h(x) = \\frac{e^{-c}}{e^{-c}\\sum _{j=0}^{k-1} e^{\\theta _ j \\cdot x / \\tau }} \\begin{bmatrix}  e^{\\theta _0 \\cdot x / \\tau } \\\\ e^{\\theta _1 \\cdot x / \\tau } \\\\ \\vdots \\\\ e^{{{\\theta _{k-1}}}  \\cdot x / \\tau } \\end{bmatrix} \\\\ = \\frac{1}{\\sum _{j=0}^{k-1} e^{[\\theta _ j \\cdot x / \\tau ] - c}} \\begin{bmatrix}  e^{[\\theta _0 \\cdot x / \\tau ] - c} \\\\ e^{[\\theta _1 \\cdot x / \\tau ] - c} \\\\ \\vdots \\\\ e^{[{{\\theta _{k-1}}}  \\cdot x / \\tau ] - c} \\end{bmatrix},\n",
    "\\end{align}"
   ]
  },
  {
   "cell_type": "code",
   "execution_count": 23,
   "metadata": {
    "ExecuteTime": {
     "end_time": "2019-07-19T20:43:10.361685Z",
     "start_time": "2019-07-19T20:43:10.355701Z"
    },
    "code_folding": [
     0
    ]
   },
   "outputs": [],
   "source": [
    "def compute_probabilities(X, theta, temp_parameter):\n",
    "    \"\"\"\n",
    "    Computes, for each datapoint X[i], the probability that X[i] is labeled as j\n",
    "    for j = 0, 1, ..., k-1\n",
    "\n",
    "    Args:\n",
    "        X - (n, d) NumPy array (n datapoints each with d features)\n",
    "        theta - (k, d) NumPy array, where row j represents the parameters of our model for label j\n",
    "        temp_parameter - the temperature parameter of softmax function (scalar)\n",
    "    Returns:\n",
    "        H - (k, n) NumPy array, where each entry H[j][i] is the probability that X[i] is labeled as j\n",
    "    \"\"\"\n",
    "    # Preliminary calculation to find c\n",
    "    tau = temp_parameter\n",
    "    A = theta @ (X.T / tau)\n",
    "    \n",
    "    # Calculate c\n",
    "    c = np.amax(A, axis=0)\n",
    "    \n",
    "    # Pre-calculate H and denominator\n",
    "    H = np.exp(A - c)\n",
    "    den = np.sum(H, axis=0)\n",
    "    \n",
    "    # Divide each column by the appropriate value\n",
    "    H = H / den\n",
    "    \n",
    "    return H\n",
    "    \n",
    "    raise NotImplementedError"
   ]
  },
  {
   "cell_type": "code",
   "execution_count": 3,
   "metadata": {
    "ExecuteTime": {
     "end_time": "2019-07-19T20:52:44.617712Z",
     "start_time": "2019-07-19T20:52:44.608736Z"
    }
   },
   "outputs": [
    {
     "name": "stdout",
     "output_type": "stream",
     "text": [
      "\u001b[1;32mPASS\u001b[m Compute probabilities \n"
     ]
    }
   ],
   "source": [
    "test.check_compute_probabilities()"
   ]
  },
  {
   "cell_type": "markdown",
   "metadata": {},
   "source": [
    "## Cost Function\n",
    "\n",
    "The cost function  $J(\\theta)$  is given by:\n",
    "\n",
    "\\begin{equation}\n",
    "  J(\\theta ) = -\\frac{1}{n}\\Bigg[\\sum _{i=1}^ n \\sum _{j={{0}} }^{{{k-1}} } [[y^{(i)} == j]] \\log {\\frac{e^{\\theta _ j \\cdot x^{(i)} / \\tau }}{\\sum _{l={{0}} }^{{{k-1}} } e^{\\theta _ l \\cdot x^{(i)} / \\tau }}}\\Bigg] + \\frac{\\lambda }{2}\\sum _{{{j=0}} }^{{{k-1}} }\\sum _{{{i}} =0}^{d-1} \\theta _{{{ji}} }^2\n",
    "\\end{equation}"
   ]
  },
  {
   "cell_type": "code",
   "execution_count": null,
   "metadata": {},
   "outputs": [],
   "source": [
    "def compute_cost_function(X, Y, theta, lambda_factor, temp_parameter):\n",
    "    \"\"\"\n",
    "    Computes the total cost over every datapoint.\n",
    "\n",
    "    Args:\n",
    "        X - (n, d) NumPy array (n datapoints each with d features)\n",
    "        Y - (n, ) NumPy array containing the labels (a number from 0-9) for each\n",
    "            data point\n",
    "        theta - (k, d) NumPy array, where row j represents the parameters of our\n",
    "                model for label j\n",
    "        lambda_factor - the regularization constant (scalar)\n",
    "        temp_parameter - the temperature parameter of softmax function (scalar)\n",
    "\n",
    "    Returns\n",
    "        c - the cost value (scalar)\n",
    "    \"\"\"\n",
    "    # Set n\n",
    "    n = X.shape[0]\n",
    "    \n",
    "    # Compute probabilities with previous function (a (k,n) matrix)\n",
    "    p = np.clip(compute_probabilities(X, theta, temp_parameter), 1e-15, 1-1e-15)\n",
    "    \n",
    "    # Pick out the appropriate probabilities from p (probabilities corresponding to the correct label)\n",
    "    p_true = np.choose(Y, p)\n",
    "    non_regularized_cost = -(1 / n) * np.sum(np.log(p_true)) # Compute first term\n",
    "    \n",
    "    # Compute second term\n",
    "    regularized_cost = 0.5 * lambda_factor * (np.sum(theta ** 2))\n",
    "    \n",
    "    return non_regularized_cost + regularized_cost\n",
    "    \n",
    "    raise NotImplementedError"
   ]
  },
  {
   "cell_type": "code",
   "execution_count": 2,
   "metadata": {
    "ExecuteTime": {
     "end_time": "2019-07-25T19:23:21.243932Z",
     "start_time": "2019-07-25T19:23:21.235952Z"
    }
   },
   "outputs": [
    {
     "name": "stdout",
     "output_type": "stream",
     "text": [
      "\u001b[1;32mPASS\u001b[m Compute cost function \n"
     ]
    }
   ],
   "source": [
    "test.check_compute_cost_function()"
   ]
  },
  {
   "cell_type": "markdown",
   "metadata": {},
   "source": [
    "## Gradient Descent\n",
    "Now, in order to run the gradient descent algorithm to minimize the cost function, we need to take the derivative of  $J(\\theta)$  wrt a particular  $\\theta_m$. \n",
    "\n",
    "\\begin{align}\n",
    "   \\frac{\\partial J(\\theta )}{\\partial \\theta _ m} = \\frac{\\partial }{\\partial \\theta _ m}\\Bigg[-\\frac{1}{n}\\Bigg[\\sum _{i=1}^ n \\sum _{j=0}^{k-1} [[y^{(i)} == j]] \\log p(y^{(i)} = j | x^{(i)}, \\theta ) \\Bigg] + \\frac{\\lambda }{2}\\sum _{j=0}^{k-1}\\sum _{i=0}^{d-1} \\theta _{ji}^2\\Bigg] \\\\\n",
    "    = -\\frac{1}{\\tau n} \\sum _{i = 1} ^{n} [x^{(i)}([[y^{(i)} == m]] - p(y^{(i)} = m | x^{(i)}, \\theta ))] + \\lambda \\theta _ m\n",
    "\\end{align}\n",
    "\n",
    "To run gradient descent, we will update  $\\theta$  at each step with $\\theta \\leftarrow \\theta - \\alpha \\nabla _{\\theta } J(\\theta )$, where $\\alpha$ is the learning rate."
   ]
  },
  {
   "cell_type": "code",
   "execution_count": 18,
   "metadata": {},
   "outputs": [],
   "source": [
    "def run_gradient_descent_iteration(X, Y, theta, alpha, lambda_factor, temp_parameter):\n",
    "    \"\"\"\n",
    "    Runs one step of batch gradient descent\n",
    "\n",
    "    Args:\n",
    "        X - (n, d) NumPy array (n datapoints each with d features)\n",
    "        Y - (n, ) NumPy array containing the labels (a number from 0-9) for each\n",
    "            data point\n",
    "        theta - (k, d) NumPy array, where row j represents the parameters of our\n",
    "                model for label j\n",
    "        alpha - the learning rate (scalar)\n",
    "        lambda_factor - the regularization constant (scalar)\n",
    "        temp_parameter - the temperature parameter of softmax function (scalar)\n",
    "\n",
    "    Returns:\n",
    "        theta - (k, d) NumPy array that is the final value of parameters theta\n",
    "    \"\"\"\n",
    "    itemp=1./temp_parameter\n",
    "    num_examples = X.shape[0]\n",
    "    num_labels = theta.shape[0]\n",
    "    probabilities = compute_probabilities(X, theta, temp_parameter)\n",
    "    # M[i][j] = 1 if y^(j) = i and 0 otherwise.\n",
    "    M = sparse.coo_matrix(([1]*num_examples, (Y,range(num_examples))), shape=(num_labels,num_examples)).toarray()\n",
    "    non_regularized_gradient = np.dot(M-probabilities, X)\n",
    "    non_regularized_gradient *= -itemp/num_examples\n",
    "    return theta - alpha * (non_regularized_gradient + lambda_factor * theta)"
   ]
  },
  {
   "cell_type": "code",
   "execution_count": 4,
   "metadata": {
    "ExecuteTime": {
     "end_time": "2019-07-19T20:54:48.153897Z",
     "start_time": "2019-07-19T20:54:48.148910Z"
    }
   },
   "outputs": [
    {
     "name": "stdout",
     "output_type": "stream",
     "text": [
      "\u001b[1;32mPASS\u001b[m Run gradient descent iteration \n"
     ]
    }
   ],
   "source": [
    "test.check_run_gradient_descent_iteration()"
   ]
  },
  {
   "cell_type": "markdown",
   "metadata": {},
   "source": [
    "## Test Error on Softmax Regression\n",
    "\n",
    "Implement softmax regression on MNIST using given functions from the main module and explore the effects of the temperature parameter in our algorithm."
   ]
  },
  {
   "cell_type": "code",
   "execution_count": 3,
   "metadata": {
    "ExecuteTime": {
     "end_time": "2019-07-25T19:26:09.916699Z",
     "start_time": "2019-07-25T19:24:39.914207Z"
    }
   },
   "outputs": [
    {
     "data": {
      "image/png": "[encoded data removed]",
      "text/plain": [
       "<Figure size 432x288 with 1 Axes>"
      ]
     },
     "metadata": {
      "needs_background": "light"
     },
     "output_type": "display_data"
    },
    {
     "name": "stdout",
     "output_type": "stream",
     "text": [
      "Softmax test_error: 0.08399999999999996\n"
     ]
    }
   ],
   "source": [
    "print('Softmax test_error:', run_softmax_on_MNIST(temp_parameter=0.5)) # 2m 7s runtime"
   ]
  },
  {
   "cell_type": "code",
   "execution_count": 4,
   "metadata": {
    "ExecuteTime": {
     "end_time": "2019-07-25T19:27:39.001210Z",
     "start_time": "2019-07-25T19:26:09.938640Z"
    }
   },
   "outputs": [
    {
     "data": {
      "image/png": "[encoded data removed]",
      "text/plain": [
       "<Figure size 432x288 with 1 Axes>"
      ]
     },
     "metadata": {
      "needs_background": "light"
     },
     "output_type": "display_data"
    },
    {
     "name": "stdout",
     "output_type": "stream",
     "text": [
      "Softmax test_error: 0.10050000000000003\n"
     ]
    }
   ],
   "source": [
    "print('Softmax test_error:', run_softmax_on_MNIST(temp_parameter=1)) # 2m 6s runtime"
   ]
  },
  {
   "cell_type": "code",
   "execution_count": 5,
   "metadata": {
    "ExecuteTime": {
     "end_time": "2019-07-25T19:29:07.208725Z",
     "start_time": "2019-07-25T19:27:39.022154Z"
    }
   },
   "outputs": [
    {
     "data": {
      "image/png": "[encoded data removed]",
      "text/plain": [
       "<Figure size 432x288 with 1 Axes>"
      ]
     },
     "metadata": {
      "needs_background": "light"
     },
     "output_type": "display_data"
    },
    {
     "name": "stdout",
     "output_type": "stream",
     "text": [
      "Softmax test_error: 0.1261\n"
     ]
    }
   ],
   "source": [
    "print('Softmax test_error:', run_softmax_on_MNIST(temp_parameter=2)) # 2m 9s runtime"
   ]
  },
  {
   "cell_type": "markdown",
   "metadata": {},
   "source": [
    "From the softmax equation, we can see that a smaller temperature parameter favors large thetas, decreasing variance and causing the model to be more \"wary\" of lower probability candidates. A large temperature, on the other hand, increases variance, flattening the resulting probability distribution.\n",
    "\n",
    "The test errors calculated above demonstrate this idea. The cost increases with temperature, since the model is less confident (lower relative probability) in its prediction.\n",
    "\n",
    "Also note that vectorizing `compute_cost_function` decreased runtime from about **127 seconds to 90 seconds**, which is a pretty good improvement."
   ]
  },
  {
   "cell_type": "markdown",
   "metadata": {},
   "source": [
    "# Changing Labels\n",
    "\n",
    "We now wish to classify the digits by their $(mod \\ 3)$ value, such that the new label  $y^{(i)}$  of sample  $i$  is the old  $y^{(i)} \\ (mod \\ 3)$ ."
   ]
  },
  {
   "cell_type": "markdown",
   "metadata": {},
   "source": [
    "## Using the Current Model - update target\n",
    "\n",
    "Given that we already classified every  $x(i)$  as a digit, we could use the model we already trained and just calculate our (mod 3) estimations.\n",
    "\n",
    "Implement `update_y` function, which changes the old digit labels for the training and test set for the new (mod 3) labels."
   ]
  },
  {
   "cell_type": "code",
   "execution_count": null,
   "metadata": {},
   "outputs": [],
   "source": [
    "def update_y(train_y, test_y):\n",
    "    \"\"\"\n",
    "    Changes the old digit labels for the training and test set for the new (mod 3)\n",
    "    labels.\n",
    "\n",
    "    Args:\n",
    "        train_y - (n, ) NumPy array containing the labels (a number between 0-9)\n",
    "                 for each datapoint in the training set\n",
    "        test_y - (n, ) NumPy array containing the labels (a number between 0-9)\n",
    "                for each datapoint in the test set\n",
    "\n",
    "    Returns:\n",
    "        train_y_mod3 - (n, ) NumPy array containing the new labels (a number between 0-2)\n",
    "                     for each datapoint in the training set\n",
    "        test_y_mod3 - (n, ) NumPy array containing the new labels (a number between 0-2)\n",
    "                    for each datapoint in the test set\n",
    "    \"\"\"\n",
    "    \n",
    "    train_y_mod3 = train_y % 3\n",
    "    test_y_mod3 = test_y % 3\n",
    "    \n",
    "    return train_y_mod3, test_y_mod3\n",
    "    raise NotImplementedError"
   ]
  },
  {
   "cell_type": "code",
   "execution_count": 2,
   "metadata": {
    "ExecuteTime": {
     "end_time": "2019-07-19T22:13:17.330232Z",
     "start_time": "2019-07-19T22:13:17.325245Z"
    }
   },
   "outputs": [
    {
     "name": "stdout",
     "output_type": "stream",
     "text": [
      "\u001b[1;32mPASS\u001b[m Update y \n"
     ]
    }
   ],
   "source": [
    "test.check_update_y()"
   ]
  },
  {
   "cell_type": "markdown",
   "metadata": {},
   "source": [
    "## Using the Current Model - compute test error\n",
    "\n",
    "Implement `compute_test_error_mod3` function, which takes the test points `X`, their correct labels `Y` (digits (mod 3) from 0-2), `theta`, and the `temp_parameter`, and returns the error."
   ]
  },
  {
   "cell_type": "code",
   "execution_count": 3,
   "metadata": {
    "ExecuteTime": {
     "end_time": "2019-07-19T22:14:10.186862Z",
     "start_time": "2019-07-19T22:14:10.182872Z"
    }
   },
   "outputs": [],
   "source": [
    "def compute_test_error_mod3(X, Y, theta, temp_parameter):\n",
    "    \"\"\"\n",
    "    Returns the error of these new labels when the classifier predicts the digit. (mod 3)\n",
    "\n",
    "    Args:\n",
    "        X - (n, d - 1) NumPy array (n datapoints each with d - 1 features)\n",
    "        Y - (n, ) NumPy array containing the labels (a number from 0-2) for each\n",
    "            data point\n",
    "        theta - (k, d) NumPy array, where row j represents the parameters of our\n",
    "                model for label j\n",
    "        temp_parameter - the temperature parameter of softmax function (scalar)\n",
    "\n",
    "    Returns:\n",
    "        test_error - the error rate of the classifier (scalar)\n",
    "    \"\"\"\n",
    "    Yp = get_classification(X, theta, temp_parameter)\n",
    "    Yp = Yp % 3\n",
    "    \n",
    "    return 1 - np.mean(Y == Yp)\n",
    "    raise NotImplementedError"
   ]
  },
  {
   "cell_type": "markdown",
   "metadata": {},
   "source": [
    "## Using the Current Model - test error\n"
   ]
  },
  {
   "cell_type": "code",
   "execution_count": 7,
   "metadata": {
    "ExecuteTime": {
     "end_time": "2019-07-19T22:29:47.344804Z",
     "start_time": "2019-07-19T22:29:46.339963Z"
    }
   },
   "outputs": [],
   "source": [
    "train_x, train_y, test_x, test_y = get_MNIST_data()\n",
    "theta = read_pickle_data('theta.pkl.gz')\n",
    "\n",
    "train_y_mod3, test_y_mod3 = update_y(train_y, test_y)\n",
    "test_error_mod3 = compute_test_error_mod3(test_x, test_y_mod3, theta, temp_parameter=1)"
   ]
  },
  {
   "cell_type": "code",
   "execution_count": 8,
   "metadata": {
    "ExecuteTime": {
     "end_time": "2019-07-19T22:29:47.387751Z",
     "start_time": "2019-07-19T22:29:47.384759Z"
    }
   },
   "outputs": [
    {
     "name": "stdout",
     "output_type": "stream",
     "text": [
      "Mod 3 test error =  0.0978\n"
     ]
    }
   ],
   "source": [
    "print('Mod 3 test error = ', test_error_mod3)"
   ]
  },
  {
   "cell_type": "markdown",
   "metadata": {},
   "source": [
    "## Retraining With New Labels\n",
    "\n",
    "Now suppose that instead we want to retrain our classifier with the new labels. In other words, rather than training the model to predict the original digits and then taking those predictions modulo 3, we explicitly train the model to predict the digits modulo 3 from the original image.\n",
    "\n",
    "How do you expect the performance to change using the new labels?\n",
    "\n",
    "Implement `run_softmax_on_MNIST_mod3` to perform this new training; report the new error rate."
   ]
  },
  {
   "cell_type": "code",
   "execution_count": null,
   "metadata": {},
   "outputs": [],
   "source": [
    "def run_softmax_on_MNIST_mod3(temp_parameter=1):\n",
    "    \"\"\"\n",
    "    Trains Softmax regression on digit (mod 3) classifications.\n",
    "\n",
    "    See run_softmax_on_MNIST for more info.\n",
    "    \"\"\"\n",
    "    train_x, train_y, test_x, test_y = get_MNIST_data()\n",
    "    \n",
    "    train_y_mod3, test_y_mod3 = update_y(train_y, test_y)\n",
    "        \n",
    "    theta, cost_function_history = softmax_regression(train_x, train_y_mod3, temp_parameter, alpha= 0.3, lambda_factor = 1.0e-4, k = 10, num_iterations = 150)\n",
    "    plot_cost_function_over_time(cost_function_history)\n",
    "    test_error_mod3 = compute_test_error_mod3(test_x, test_y_mod3, theta, temp_parameter)\n",
    "    # Save the model parameters theta obtained from calling softmax_regression to disk.\n",
    "    write_pickle_data(theta, \"./thetamod3.pkl.gz\")\n",
    "    \n",
    "    return test_error_mod3\n",
    "    raise NotImplementedError"
   ]
  },
  {
   "cell_type": "code",
   "execution_count": 2,
   "metadata": {
    "ExecuteTime": {
     "end_time": "2019-07-19T22:34:04.792021Z",
     "start_time": "2019-07-19T22:31:57.523030Z"
    }
   },
   "outputs": [
    {
     "data": {
      "image/png": "[encoded data removed]",
      "text/plain": [
       "<Figure size 432x288 with 1 Axes>"
      ]
     },
     "metadata": {
      "needs_background": "light"
     },
     "output_type": "display_data"
    },
    {
     "name": "stdout",
     "output_type": "stream",
     "text": [
      "Mod 3 test error =  0.18720000000000003\n"
     ]
    }
   ],
   "source": [
    "print('Mod 3 test error = ', run_softmax_on_MNIST_mod3())"
   ]
  },
  {
   "cell_type": "markdown",
   "metadata": {},
   "source": [
    "Overall performance decreased by using the new labels (18.72% error)."
   ]
  },
  {
   "cell_type": "markdown",
   "metadata": {},
   "source": [
    "# Dimensionality Reduction Using PCA\n",
    "\n",
    "PCA finds (orthogonal) directions of maximal variation in the data. In this problem we're going to project our data onto the principal components and explore the effects on performance."
   ]
  },
  {
   "cell_type": "markdown",
   "metadata": {},
   "source": [
    "## Project onto Principal Components\n",
    "\n",
    "Fill in function `project_onto_PC` in features.py that implements PCA dimensionality reduction of dataset  $X$.\n",
    "\n",
    "Note that to project a given  $n \\times d$  dataset  $X$  into its  $k$-dimensional PCA representation, one can use matrix multiplication, after first centering  $X$ :\n",
    "\n",
    "$\\widetilde{X} V$\n",
    "\n",
    "where  $\\widetilde{X}$  is the centered version of the original data  $X$  and  $V$  is the  $d \\times k$  matrix whose columns are the top  $k$  eigenvectors of  $\\widetilde{X}^T \\widetilde{X}$ . This is because the eigenvectors are of unit-norm, so there is no need to divide by their length.\n",
    "\n",
    "You are given the full principal component matrix  $V'$  as `pcs` in this function."
   ]
  },
  {
   "cell_type": "code",
   "execution_count": null,
   "metadata": {},
   "outputs": [],
   "source": [
    "def project_onto_PC(X, pcs, n_components):\n",
    "    \"\"\"\n",
    "    Given principal component vectors pcs = principal_components(X)\n",
    "    this function returns a new data array in which each sample in X\n",
    "    has been projected onto the first n_components principcal components.\n",
    "    \"\"\"\n",
    "    X = center_data(X)\n",
    "\n",
    "    return X @ pcs[:,range(n_components)]\n",
    "\n",
    "    raise NotImplementedError"
   ]
  },
  {
   "cell_type": "markdown",
   "metadata": {},
   "source": [
    "Note: we only use the training dataset to determine the principal components. **It is improper to use the test dataset for anything except evaluating the accuracy of our predictive model**. If the test data is used for other purposes such as selecting good features, it is possible to overfit the test set and obtain overconfident estimates of a model's performance."
   ]
  },
  {
   "cell_type": "markdown",
   "metadata": {},
   "source": [
    "## Testing PCA\n",
    "\n",
    "Use `project_onto_PC` to compute a 18-dimensional PCA representation of the MNIST training and test datasets, as illustrated in main.py.\n",
    "\n",
    "Retrain your softmax regression model (using the original labels) on the MNIST training dataset and report its error on the test data, this time using these 18-dimensional PCA-representations rather than the raw pixel values.\n",
    "\n",
    "If your PCA implementation is correct, the model should perform nearly as well when only given 18 numbers encoding each image as compared to the 784 in the original data (error on the test set using PCA features should be around 0.15). This is because PCA ensures these 18 feature values capture the maximal amount of variation from the original 784-dimensional data."
   ]
  },
  {
   "cell_type": "code",
   "execution_count": 8,
   "metadata": {
    "ExecuteTime": {
     "end_time": "2019-07-19T22:40:16.526262Z",
     "start_time": "2019-07-19T22:39:27.086036Z"
    }
   },
   "outputs": [
    {
     "data": {
      "image/png": "[encoded data removed]",
      "text/plain": [
       "<Figure size 432x288 with 1 Axes>"
      ]
     },
     "metadata": {
      "needs_background": "light"
     },
     "output_type": "display_data"
    },
    {
     "name": "stdout",
     "output_type": "stream",
     "text": [
      "Test error for 18-dimensional PCA features =  0.1483\n"
     ]
    }
   ],
   "source": [
    "# Load MNIST data\n",
    "train_x, train_y, test_x, test_y = get_MNIST_data()\n",
    "\n",
    "# Calculate 18-D representation of training data\n",
    "n_components = 18\n",
    "pcs = principal_components(train_x)\n",
    "\n",
    "# Store PCA representations\n",
    "train_pca = project_onto_PC(train_x, pcs, n_components)\n",
    "test_pca = project_onto_PC(test_x, pcs, n_components)\n",
    "\n",
    "# Retrain softmax regression model\n",
    "theta, cost_function_history = softmax_regression(train_pca, train_y, temp_parameter=1, alpha= 0.3, lambda_factor = 1.0e-4, k = 10, num_iterations = 150)\n",
    "plot_cost_function_over_time(cost_function_history)\n",
    "test_error = compute_test_error(test_pca, test_y, theta, temp_parameter=1)\n",
    "print('Test error for 18-dimensional PCA features = ', test_error) # 48.9s runtime"
   ]
  },
  {
   "cell_type": "markdown",
   "metadata": {},
   "source": [
    "Dimensionality reduction with PCA **reduced runtime from 129s to 48.9s**, with a test error of 14.83% (compared to 8% for $\\tau = 0.5$). Not a bad trade-off for ~30% of the original computation time."
   ]
  },
  {
   "cell_type": "code",
   "execution_count": 7,
   "metadata": {
    "ExecuteTime": {
     "end_time": "2019-07-19T22:35:48.528916Z",
     "start_time": "2019-07-19T22:35:48.186830Z"
    }
   },
   "outputs": [
    {
     "data": {
      "image/png": "[encoded data removed]",
      "text/plain": [
       "<Figure size 432x288 with 1 Axes>"
      ]
     },
     "metadata": {
      "needs_background": "light"
     },
     "output_type": "display_data"
    }
   ],
   "source": [
    "plot_PC(train_x[range(100),], pcs, train_y[range(100)])"
   ]
  },
  {
   "cell_type": "markdown",
   "metadata": {},
   "source": [
    "# Cubic Features\n",
    "In this section, we will work with a **cubic feature** mapping which maps an input vector  $x=[x1, \\dots ,xd]$  into a new feature vector  $\\phi(x)$ , defined so that for any  $x, \\ x' \\in \\mathbb{R}^d$:\n",
    "\n",
    "\\begin{equation}\n",
    "  \\phi (x)^ T \\phi (x') = (x^ T x' + 1)^3\n",
    "\\end{equation}"
   ]
  },
  {
   "cell_type": "markdown",
   "metadata": {},
   "source": [
    "## Computing Cubic Features\n",
    "In 2-D, let $ x=[x_1,x_2] $. Write down the explicit cubic feature mapping $ \\phi (x)$  as a vector; i.e.,  $ \\phi(x)=[f_1(x_1,x_2),⋯,f_N(x_1,x_2)]$."
   ]
  },
  {
   "cell_type": "code",
   "execution_count": null,
   "metadata": {},
   "outputs": [],
   "source": [
    "def phi(x):\n",
    "    x_1 = x[0]\n",
    "    x_2 = x[1]\n",
    "    \n",
    "    return np.array([1, \n",
    "                     x_1**3, \n",
    "                     x_2**3, \n",
    "                     sqrt(3) * x_1, \n",
    "                     sqrt(3) * x_2, \n",
    "                     sqrt(3) * x_1**2, \n",
    "                     sqrt(3) * x_1**2 * x_2, \n",
    "                     sqrt(3) * x_2**2, \n",
    "                     sqrt(3) * x_2**2 * x_1, \n",
    "                     sqrt(6) * x_1 * x_2])"
   ]
  },
  {
   "cell_type": "markdown",
   "metadata": {},
   "source": [
    "## Applying to MNIST\n",
    "\n",
    "If we explicitly apply the cubic feature mapping to the original 784-dimensional raw pixel features, the resulting representation would be of massive dimensionality. Instead, we will apply the quadratic feature mapping to the 10-dimensional PCA representation of our training data which we will have to calculate just as we calculated the 18-dimensional representation in the previous problem. After applying the cubic feature mapping to the PCA representations for both the train and test datasets, retrain the softmax regression model using these new features and report the resulting test set error below."
   ]
  },
  {
   "cell_type": "code",
   "execution_count": 9,
   "metadata": {
    "ExecuteTime": {
     "end_time": "2019-07-19T22:46:50.571748Z",
     "start_time": "2019-07-19T22:45:17.334352Z"
    }
   },
   "outputs": [
    {
     "data": {
      "image/png": "[encoded data removed]",
      "text/plain": [
       "<Figure size 432x288 with 1 Axes>"
      ]
     },
     "metadata": {
      "needs_background": "light"
     },
     "output_type": "display_data"
    },
    {
     "name": "stdout",
     "output_type": "stream",
     "text": [
      "Test error for 18-dimensional PCA features =  0.08709999999999996\n"
     ]
    }
   ],
   "source": [
    "# Calculate 10-D PCA representation of training data\n",
    "n_components = 10\n",
    "pcs = principal_components(train_x)\n",
    "\n",
    "# Store PCA representations\n",
    "train_pca = project_onto_PC(train_x, pcs, n_components)\n",
    "test_pca = project_onto_PC(test_x, pcs, n_components)\n",
    "\n",
    "# Apply and store cubic feature mappings\n",
    "train_pca = cubic_features(train_pca)\n",
    "test_pca = cubic_features(test_pca)\n",
    "\n",
    "# Retrain softmax regression model\n",
    "theta, cost_function_history = softmax_regression(train_pca, train_y, temp_parameter=1, alpha= 0.3, lambda_factor = 1.0e-4, k = 10, num_iterations = 150)\n",
    "plot_cost_function_over_time(cost_function_history)\n",
    "test_error = compute_test_error(test_pca, test_y, theta, temp_parameter=1)\n",
    "print('Test error for 18-dimensional PCA features = ', test_error)"
   ]
  },
  {
   "cell_type": "markdown",
   "metadata": {},
   "source": [
    "The resulting figure is indicative of a learning rate that is too high, meaning that the gradient descent is overshooting.  In order to smooth out the curve, we should decrease `alpha`."
   ]
  },
  {
   "cell_type": "code",
   "execution_count": 18,
   "metadata": {
    "ExecuteTime": {
     "end_time": "2019-07-19T23:08:35.679009Z",
     "start_time": "2019-07-19T23:04:50.139058Z"
    }
   },
   "outputs": [
    {
     "name": "stdout",
     "output_type": "stream",
     "text": [
      "Test error =  0.10099999999999998\n",
      "Test error =  0.06979999999999997\n",
      "Test error =  0.07099999999999995\n"
     ]
    },
    {
     "data": {
      "image/png": "[encoded data removed]",
      "text/plain": [
       "<Figure size 432x288 with 1 Axes>"
      ]
     },
     "metadata": {
      "needs_background": "light"
     },
     "output_type": "display_data"
    }
   ],
   "source": [
    "alpha = np.linspace(0.25, 0.05, 3)\n",
    "\n",
    "for i in alpha:\n",
    "    theta, cost_function_history = softmax_regression(train_pca, train_y, temp_parameter=1, alpha=i, lambda_factor = 1.0e-4, k = 10, num_iterations = 150)\n",
    "    test_error = compute_test_error(test_pca, test_y, theta, temp_parameter=1)\n",
    "    print('Test error = ', test_error)\n",
    "    plt.plot(range(len(cost_function_history)), cost_function_history, label = str(i))\n",
    "    \n",
    "plt.ylabel('Cost Function')\n",
    "plt.xlabel('Iteration number')\n",
    "plt.legend(title='alpha = ')\n",
    "plt.show()"
   ]
  },
  {
   "cell_type": "markdown",
   "metadata": {},
   "source": [
    "The figure above shows the cost functions for decreasing values of the learning rate. It's apparent that the curve smooths out for `alpha = 0.15` and is completely smooth for `alpha = 0.05`. These values also result in improvements to the test error (~7%)."
   ]
  },
  {
   "cell_type": "markdown",
   "metadata": {},
   "source": [
    "# Kernel Methods\n",
    "\n",
    "As you can see, implementing a direct mapping to the high-dimensional features is a lot of work (imagine using an even higher dimensional feature mapping.) This is where the kernel trick becomes useful.\n",
    "\n",
    "Recall the kernel perceptron algorithm we learned in the lecture. The weights $\\theta$ can be represented by a linear combination of features:\n",
    "\n",
    "\\begin{equation}\n",
    "  \\theta = \\sum _{i=1}^{n} \\alpha ^{(i)} y^{(i)} \\phi (x^{(i)})\n",
    "\\end{equation}\n",
    "\n",
    "In the softmax regression fomulation, we can also apply this representation of the weights:\n",
    "\n",
    "\\begin{equation}\n",
    "  \\theta _ j = \\sum _{i=1}^{n} \\alpha _{j}^{(i)} y^{(i)} \\phi (x^{(i)}).\n",
    "\\end{equation}\n",
    "\n",
    "\\begin{equation}\n",
    "  h(x) = \\frac{1}{\\sum _{j=1}^ k e^{[\\theta _ j \\cdot \\phi (x) / \\tau ] - c}} \\begin{bmatrix}  e^{[\\theta _1 \\cdot \\phi (x) / \\tau ] - c} \\\\ e^{[\\theta _2 \\cdot \\phi (x) / \\tau ] - c} \\\\ \\vdots \\\\ e^{[\\theta _ k \\cdot \\phi (x) / \\tau ] - c} \\end{bmatrix}\n",
    "\\end{equation}\n",
    "\n",
    "\\begin{equation}\n",
    "  h(x) = \\frac{1}{\\sum _{j=1}^ k e^{[\\sum _{i=1}^{n} \\alpha _{j}^{(i)} y^{(i)} \\phi (x^{(i)}) \\cdot \\phi (x) / \\tau ] - c}} \\begin{bmatrix}  e^{[\\sum _{i=1}^{n} \\alpha _{1}^{(i)} y^{(i)} \\phi (x^{(i)}) \\cdot \\phi (x) / \\tau ] - c} \\\\ e^{[\\sum _{i=1}^{n} \\alpha _{2}^{(i)} y^{(i)} \\phi (x^{(i)}) \\cdot \\phi (x) / \\tau ] - c} \\\\ \\vdots \\\\ e^{[\\sum _{i=1}^{n} \\alpha _{k}^{(i)} y^{(i)} \\phi (x^{(i)}) \\cdot \\phi (x) / \\tau ] - c} \\end{bmatrix}\n",
    "\\end{equation}\n",
    "\n",
    "We actually do not need the real mapping  $\\phi(x)$ , but the inner product between two features after mapping:  $\\phi(x_i) \\dot \\phi(x)$ , where  $x_i$  is a point in the training set and  $x$  is the new data point for which we want to compute the probability. If we can create a kernel function  $K(x,y)=\\phi(x) \\dot \\phi(y)$ , for any two points  $x$  and  $y$ , we can then kernelize our softmax regression algorithm."
   ]
  },
  {
   "cell_type": "markdown",
   "metadata": {},
   "source": [
    "## Implementing Polynomial Kernel\n",
    "\n",
    "In the last section, we explicitly created a cubic feature mapping. Now, suppose we want to map the features into d dimensional polynomial space,\n",
    "\n",
    "\\begin{equation}\n",
    "  \\phi (x) = \\langle x_ d^2, \\ldots , x_1^2, \\sqrt{2} x_ d x_{d-1}, \\ldots , \\sqrt{2} x_ d x_1, \\sqrt{2} x_{d-1} x_{d-2}, \\ldots , \\sqrt{2} x_{d-1} x_{1}, \\ldots , \\sqrt{2} x_{2} x_{1}, \\sqrt{2c} x_ d, \\ldots , \\sqrt{2c} x_1, c \\rangle\n",
    "\\end{equation}\n",
    "\n",
    "Write a function `polynomial_kernel` that takes in two matrices  $X$  and  $Y$  and computes the polynomial kernel $K(x,y)$  for every pair of rows  $x$  in  $X$  and  $y$  in  $Y$."
   ]
  },
  {
   "cell_type": "code",
   "execution_count": 19,
   "metadata": {
    "ExecuteTime": {
     "end_time": "2019-07-20T02:17:12.474801Z",
     "start_time": "2019-07-20T02:17:12.469817Z"
    }
   },
   "outputs": [],
   "source": [
    "def polynomial_kernel(X, Y, c, p):\n",
    "    \"\"\"\n",
    "        Compute the polynomial kernel between two matrices X and Y::\n",
    "            K(x, y) = (<x, y> + c)^p\n",
    "        for each pair of rows x in X and y in Y.\n",
    "\n",
    "        Args:\n",
    "            X - (n, d) NumPy array (n datapoints each with d features)\n",
    "            Y - (m, d) NumPy array (m datapoints each with d features)\n",
    "            c - a coefficient to trade off high-order and low-order terms (scalar)\n",
    "            p - the degree of the polynomial kernel\n",
    "\n",
    "        Returns:\n",
    "            kernel_matrix - (n, m) Numpy array containing the kernel matrix\n",
    "    \"\"\"\n",
    "    return np.power(X @ Y.T + c, p)\n",
    "    raise NotImplementedError"
   ]
  },
  {
   "cell_type": "markdown",
   "metadata": {},
   "source": [
    "## Gaussian RBF Kernel\n",
    "\n",
    "Another commonly used kernel is the Gaussian RBF kenel. Similarly, write a function `rbf_kernel` that takes in two matrices  $X$  and  $Y$  and computes the RBF kernel  $K(x,y)$  for every pair of rows  $x$  in  $X$  and  $y$  in  $Y$."
   ]
  },
  {
   "cell_type": "code",
   "execution_count": 21,
   "metadata": {
    "ExecuteTime": {
     "end_time": "2019-07-22T02:38:07.890403Z",
     "start_time": "2019-07-22T02:38:07.883422Z"
    }
   },
   "outputs": [],
   "source": [
    "def rbf_kernel(X, Y, gamma):\n",
    "    \"\"\"\n",
    "        Compute the Gaussian RBF kernel between two matrices X and Y::\n",
    "            K(x, y) = exp(-gamma ||x-y||^2)\n",
    "        for each pair of rows x in X and y in Y.\n",
    "\n",
    "        Args:\n",
    "            X - (n, d) NumPy array (n datapoints each with d features)\n",
    "            Y - (m, d) NumPy array (m datapoints each with d features)\n",
    "            gamma - the gamma parameter of gaussian function (scalar)\n",
    "\n",
    "        Returns:\n",
    "            kernel_matrix - (n, m) Numpy array containing the kernel matrix\n",
    "    \"\"\"\n",
    "    Xnorm = np.sum(X**2, axis=1)\n",
    "    Ynorm = np.sum(Y**2, axis=1)\n",
    "    cross = -2. * X @ Y.T\n",
    "    return np.exp(-gamma *(Xnorm[:,None] + Ynorm[None,:] + cross))\n",
    "    raise NotImplementedError\n"
   ]
  },
  {
   "cell_type": "code",
   "execution_count": 22,
   "metadata": {
    "ExecuteTime": {
     "end_time": "2019-07-22T02:38:18.575396Z",
     "start_time": "2019-07-22T02:38:18.556448Z"
    }
   },
   "outputs": [
    {
     "name": "stdout",
     "output_type": "stream",
     "text": [
      "\u001b[1;32mPASS\u001b[m RBF kernel \n"
     ]
    }
   ],
   "source": [
    "test.check_rbf_kernel()"
   ]
  },
  {
   "cell_type": "code",
   "execution_count": null,
   "metadata": {},
   "outputs": [],
   "source": []
  }
 ],
 "metadata": {
  "kernelspec": {
   "display_name": "Python 3",
   "language": "python",
   "name": "python3"
  },
  "language_info": {
   "codemirror_mode": {
    "name": "ipython",
    "version": 3
   },
   "file_extension": ".py",
   "mimetype": "text/x-python",
   "name": "python",
   "nbconvert_exporter": "python",
   "pygments_lexer": "ipython3",
   "version": "3.6.8"
  },
  "toc": {
   "base_numbering": 1,
   "nav_menu": {},
   "number_sections": true,
   "sideBar": true,
   "skip_h1_title": false,
   "title_cell": "Table of Contents",
   "title_sidebar": "Contents",
   "toc_cell": false,
   "toc_position": {},
   "toc_section_display": true,
   "toc_window_display": false
  },
  "varInspector": {
   "cols": {
    "lenName": 16,
    "lenType": 16,
    "lenVar": 40
   },
   "kernels_config": {
    "python": {
     "delete_cmd_postfix": "",
     "delete_cmd_prefix": "del ",
     "library": "var_list.py",
     "varRefreshCmd": "print(var_dic_list())"
    },
    "r": {
     "delete_cmd_postfix": ") ",
     "delete_cmd_prefix": "rm(",
     "library": "var_list.r",
     "varRefreshCmd": "cat(var_dic_list()) "
    }
   },
   "types_to_exclude": [
    "module",
    "function",
    "builtin_function_or_method",
    "instance",
    "_Feature"
   ],
   "window_display": false
  }
 },
 "nbformat": 4,
 "nbformat_minor": 2
}
